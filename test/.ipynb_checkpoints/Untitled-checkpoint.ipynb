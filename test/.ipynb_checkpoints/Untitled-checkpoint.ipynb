{
 "cells": [
  {
   "cell_type": "code",
   "execution_count": 1,
   "metadata": {
    "collapsed": true
   },
   "outputs": [],
   "source": [
    "from __future__ import division\n",
    "from astropy.io import fits\n",
    "from astropy.table import Table\n",
    "import numpy as np\n",
    "import matplotlib.pyplot as plt\n",
    "from scipy import signal"
   ]
  },
  {
   "cell_type": "code",
   "execution_count": 15,
   "metadata": {
    "collapsed": false
   },
   "outputs": [
    {
     "data": {
      "text/plain": [
       "[<matplotlib.lines.Line2D at 0x7f884f833190>]"
      ]
     },
     "execution_count": 15,
     "metadata": {},
     "output_type": "execute_result"
    }
   ],
   "source": [
    "dir = '/media/luofeng/00060DB10005A1A0/Data/LAMOST_DR4_snrg_gt_20_lt_100'\n",
    "hl1 = fits.open(dir+'/spec-55862-B6202_sp09-035.fits')\n",
    "spec_la = hl1[0].data\n",
    "wave_la = spec_la[2]\n",
    "flux_la = spec_la[0]\n",
    "plt.figure(1)\n",
    "plt.plot(wave_la, flux_la, '-')\n",
    "plt.show()"
   ]
  },
  {
   "cell_type": "code",
   "execution_count": 9,
   "metadata": {
    "collapsed": false
   },
   "outputs": [],
   "source": [
    "dir = '/media/luofeng/00060DB10005A1A0/Data/PHOENIX-ACES-AGSS-COND-2011_Z-0.0'\n",
    "filename = '/lte06000-4.00-0.0.PHOENIX-ACES-AGSS-COND-2011-HiRes.fits'\n",
    "hl = fits.open(dir+filename)\n",
    "spec_ph = Table(hl[1].data)\n",
    "wave_ph = spec_ph['wave']\n",
    "flux_ph = spec_ph['flux']\n",
    "plt.figure(2)\n",
    "plt.plot(wave_ph, flux_ph, 'r-')\n",
    "plt.show()"
   ]
  },
  {
   "cell_type": "code",
   "execution_count": 5,
   "metadata": {
    "collapsed": false
   },
   "outputs": [
    {
     "name": "stdout",
     "output_type": "stream",
     "text": [
      "3902\n",
      "19083\n",
      "corr= 3902\n"
     ]
    },
    {
     "data": {
      "text/plain": [
       "[<matplotlib.lines.Line2D at 0x7f8876820350>]"
      ]
     },
     "execution_count": 5,
     "metadata": {},
     "output_type": "execute_result"
    }
   ],
   "source": [
    "corr = signal.correlate(flux_la, flux_la, mode='same')\n",
    "# print min(wave_ph[3900:8800]), max(wave_ph[3900:8800])\n",
    "print len(flux_la)\n",
    "print len(flux_ph)\n",
    "print 'corr=', len(corr)\n",
    "plt.figure(3)\n",
    "plt.plot(corr, 'g-')"
   ]
  },
  {
   "cell_type": "code",
   "execution_count": 6,
   "metadata": {
    "collapsed": true
   },
   "outputs": [],
   "source": [
    "plt.show()"
   ]
  },
  {
   "cell_type": "code",
   "execution_count": null,
   "metadata": {
    "collapsed": true
   },
   "outputs": [],
   "source": []
  }
 ],
 "metadata": {
  "kernelspec": {
   "display_name": "Python [Root]",
   "language": "python",
   "name": "Python [Root]"
  },
  "language_info": {
   "codemirror_mode": {
    "name": "ipython",
    "version": 2
   },
   "file_extension": ".py",
   "mimetype": "text/x-python",
   "name": "python",
   "nbconvert_exporter": "python",
   "pygments_lexer": "ipython2",
   "version": "2.7.12"
  }
 },
 "nbformat": 4,
 "nbformat_minor": 0
}
